{
 "cells": [
  {
   "cell_type": "markdown",
   "metadata": {
    "scrolled": true
   },
   "source": [
    "# Introdiction to Artificial intelligence<br>\n",
    "## introduction\n",
    "The purpose of project is to predict missing data in the dataset. <br>\n",
    "<p>In this projcet we have a dataset which has 10 features that we have to choose <br>\n",
    "one of them as our input to do this we draw diagram of normal distribution of each one <br>\n",
    "then we choose one of them. In next step according to the selected feature we assign 1 or 0 <br>\n",
    "to the \"Clicked on Ad\" feature which is our output. And this is our prediction.</p>"
   ]
  },
  {
   "cell_type": "markdown",
   "metadata": {},
   "source": [
    "## part 1\n",
    "In this part <br>\n",
    "- The dataset is loaded.\n",
    "- Then first 5 rows of dataset are displayed.\n",
    "- Then last 5 rows of dataset are displayed.\n",
    "- Then Information like count of values, average(mean), min and max value, standard deviation(std) and percentiles are displayed."
   ]
  },
  {
   "cell_type": "code",
   "execution_count": 573,
   "metadata": {},
   "outputs": [
    {
     "data": {
      "text/html": [
       "<div>\n",
       "<style scoped>\n",
       "    .dataframe tbody tr th:only-of-type {\n",
       "        vertical-align: middle;\n",
       "    }\n",
       "\n",
       "    .dataframe tbody tr th {\n",
       "        vertical-align: top;\n",
       "    }\n",
       "\n",
       "    .dataframe thead th {\n",
       "        text-align: right;\n",
       "    }\n",
       "</style>\n",
       "<table border=\"1\" class=\"dataframe\">\n",
       "  <thead>\n",
       "    <tr style=\"text-align: right;\">\n",
       "      <th></th>\n",
       "      <th>Unnamed: 0</th>\n",
       "      <th>Daily Time Spent on Site</th>\n",
       "      <th>Age</th>\n",
       "      <th>Area Income</th>\n",
       "      <th>Daily Internet Usage</th>\n",
       "      <th>Ad Topic Line</th>\n",
       "      <th>City</th>\n",
       "      <th>Gender</th>\n",
       "      <th>Country</th>\n",
       "      <th>Timestamp</th>\n",
       "      <th>Clicked on Ad</th>\n",
       "    </tr>\n",
       "  </thead>\n",
       "  <tbody>\n",
       "    <tr>\n",
       "      <th>0</th>\n",
       "      <td>0</td>\n",
       "      <td>68.95</td>\n",
       "      <td>35.0</td>\n",
       "      <td>61833.90</td>\n",
       "      <td>256.09</td>\n",
       "      <td>Cloned 5thgeneration orchestration</td>\n",
       "      <td>Wrightburgh</td>\n",
       "      <td>Female</td>\n",
       "      <td>Tunisia</td>\n",
       "      <td>2016-03-27 00:53:11</td>\n",
       "      <td>0.0</td>\n",
       "    </tr>\n",
       "    <tr>\n",
       "      <th>1</th>\n",
       "      <td>1</td>\n",
       "      <td>80.23</td>\n",
       "      <td>31.0</td>\n",
       "      <td>68441.85</td>\n",
       "      <td>NaN</td>\n",
       "      <td>Monitored national standardization</td>\n",
       "      <td>West Jodi</td>\n",
       "      <td>Male</td>\n",
       "      <td>Nauru</td>\n",
       "      <td>2016-04-04 01:39:02</td>\n",
       "      <td>0.0</td>\n",
       "    </tr>\n",
       "    <tr>\n",
       "      <th>2</th>\n",
       "      <td>2</td>\n",
       "      <td>69.47</td>\n",
       "      <td>26.0</td>\n",
       "      <td>59785.94</td>\n",
       "      <td>236.50</td>\n",
       "      <td>Organic bottom-line service-desk</td>\n",
       "      <td>Davidton</td>\n",
       "      <td>Female</td>\n",
       "      <td>San Marino</td>\n",
       "      <td>2016-03-13 20:35:42</td>\n",
       "      <td>0.0</td>\n",
       "    </tr>\n",
       "    <tr>\n",
       "      <th>3</th>\n",
       "      <td>3</td>\n",
       "      <td>74.15</td>\n",
       "      <td>29.0</td>\n",
       "      <td>54806.18</td>\n",
       "      <td>245.89</td>\n",
       "      <td>Triple-buffered reciprocal time-frame</td>\n",
       "      <td>West Terrifurt</td>\n",
       "      <td>Male</td>\n",
       "      <td>Italy</td>\n",
       "      <td>2016-01-10 02:31:19</td>\n",
       "      <td>0.0</td>\n",
       "    </tr>\n",
       "    <tr>\n",
       "      <th>4</th>\n",
       "      <td>4</td>\n",
       "      <td>68.37</td>\n",
       "      <td>35.0</td>\n",
       "      <td>73889.99</td>\n",
       "      <td>225.58</td>\n",
       "      <td>Robust logistical utilization</td>\n",
       "      <td>South Manuel</td>\n",
       "      <td>Female</td>\n",
       "      <td>Iceland</td>\n",
       "      <td>2016-06-03 03:36:18</td>\n",
       "      <td>0.0</td>\n",
       "    </tr>\n",
       "  </tbody>\n",
       "</table>\n",
       "</div>"
      ],
      "text/plain": [
       "   Unnamed: 0  Daily Time Spent on Site   Age  Area Income  \\\n",
       "0           0                     68.95  35.0     61833.90   \n",
       "1           1                     80.23  31.0     68441.85   \n",
       "2           2                     69.47  26.0     59785.94   \n",
       "3           3                     74.15  29.0     54806.18   \n",
       "4           4                     68.37  35.0     73889.99   \n",
       "\n",
       "   Daily Internet Usage                          Ad Topic Line  \\\n",
       "0                256.09     Cloned 5thgeneration orchestration   \n",
       "1                   NaN     Monitored national standardization   \n",
       "2                236.50       Organic bottom-line service-desk   \n",
       "3                245.89  Triple-buffered reciprocal time-frame   \n",
       "4                225.58          Robust logistical utilization   \n",
       "\n",
       "             City  Gender     Country            Timestamp  Clicked on Ad  \n",
       "0     Wrightburgh  Female     Tunisia  2016-03-27 00:53:11            0.0  \n",
       "1       West Jodi    Male       Nauru  2016-04-04 01:39:02            0.0  \n",
       "2        Davidton  Female  San Marino  2016-03-13 20:35:42            0.0  \n",
       "3  West Terrifurt    Male       Italy  2016-01-10 02:31:19            0.0  \n",
       "4    South Manuel  Female     Iceland  2016-06-03 03:36:18            0.0  "
      ]
     },
     "metadata": {},
     "output_type": "display_data"
    },
    {
     "data": {
      "text/html": [
       "<div>\n",
       "<style scoped>\n",
       "    .dataframe tbody tr th:only-of-type {\n",
       "        vertical-align: middle;\n",
       "    }\n",
       "\n",
       "    .dataframe tbody tr th {\n",
       "        vertical-align: top;\n",
       "    }\n",
       "\n",
       "    .dataframe thead th {\n",
       "        text-align: right;\n",
       "    }\n",
       "</style>\n",
       "<table border=\"1\" class=\"dataframe\">\n",
       "  <thead>\n",
       "    <tr style=\"text-align: right;\">\n",
       "      <th></th>\n",
       "      <th>Unnamed: 0</th>\n",
       "      <th>Daily Time Spent on Site</th>\n",
       "      <th>Age</th>\n",
       "      <th>Area Income</th>\n",
       "      <th>Daily Internet Usage</th>\n",
       "      <th>Ad Topic Line</th>\n",
       "      <th>City</th>\n",
       "      <th>Gender</th>\n",
       "      <th>Country</th>\n",
       "      <th>Timestamp</th>\n",
       "      <th>Clicked on Ad</th>\n",
       "    </tr>\n",
       "  </thead>\n",
       "  <tbody>\n",
       "    <tr>\n",
       "      <th>995</th>\n",
       "      <td>995</td>\n",
       "      <td>72.97</td>\n",
       "      <td>30.0</td>\n",
       "      <td>71384.57</td>\n",
       "      <td>208.58</td>\n",
       "      <td>Fundamental modular algorithm</td>\n",
       "      <td>Duffystad</td>\n",
       "      <td>Male</td>\n",
       "      <td>Lebanon</td>\n",
       "      <td>2016-02-11 21:49:00</td>\n",
       "      <td>1.0</td>\n",
       "    </tr>\n",
       "    <tr>\n",
       "      <th>996</th>\n",
       "      <td>996</td>\n",
       "      <td>51.30</td>\n",
       "      <td>45.0</td>\n",
       "      <td>67782.17</td>\n",
       "      <td>134.42</td>\n",
       "      <td>Grass-roots cohesive monitoring</td>\n",
       "      <td>New Darlene</td>\n",
       "      <td>Male</td>\n",
       "      <td>Bosnia and Herzegovina</td>\n",
       "      <td>2016-04-22 02:07:01</td>\n",
       "      <td>1.0</td>\n",
       "    </tr>\n",
       "    <tr>\n",
       "      <th>997</th>\n",
       "      <td>997</td>\n",
       "      <td>51.63</td>\n",
       "      <td>51.0</td>\n",
       "      <td>42415.72</td>\n",
       "      <td>120.37</td>\n",
       "      <td>Expanded intangible solution</td>\n",
       "      <td>South Jessica</td>\n",
       "      <td>Male</td>\n",
       "      <td>Mongolia</td>\n",
       "      <td>2016-02-01 17:24:57</td>\n",
       "      <td>1.0</td>\n",
       "    </tr>\n",
       "    <tr>\n",
       "      <th>998</th>\n",
       "      <td>998</td>\n",
       "      <td>55.55</td>\n",
       "      <td>19.0</td>\n",
       "      <td>41920.79</td>\n",
       "      <td>187.95</td>\n",
       "      <td>Proactive bandwidth-monitored policy</td>\n",
       "      <td>West Steven</td>\n",
       "      <td>Female</td>\n",
       "      <td>Guatemala</td>\n",
       "      <td>2016-03-24 02:35:54</td>\n",
       "      <td>0.0</td>\n",
       "    </tr>\n",
       "    <tr>\n",
       "      <th>999</th>\n",
       "      <td>999</td>\n",
       "      <td>NaN</td>\n",
       "      <td>26.0</td>\n",
       "      <td>29875.80</td>\n",
       "      <td>178.35</td>\n",
       "      <td>Virtual 5thgeneration emulation</td>\n",
       "      <td>Ronniemouth</td>\n",
       "      <td>Female</td>\n",
       "      <td>Brazil</td>\n",
       "      <td>2016-06-03 21:43:21</td>\n",
       "      <td>1.0</td>\n",
       "    </tr>\n",
       "  </tbody>\n",
       "</table>\n",
       "</div>"
      ],
      "text/plain": [
       "     Unnamed: 0  Daily Time Spent on Site   Age  Area Income  \\\n",
       "995         995                     72.97  30.0     71384.57   \n",
       "996         996                     51.30  45.0     67782.17   \n",
       "997         997                     51.63  51.0     42415.72   \n",
       "998         998                     55.55  19.0     41920.79   \n",
       "999         999                       NaN  26.0     29875.80   \n",
       "\n",
       "     Daily Internet Usage                         Ad Topic Line  \\\n",
       "995                208.58         Fundamental modular algorithm   \n",
       "996                134.42       Grass-roots cohesive monitoring   \n",
       "997                120.37          Expanded intangible solution   \n",
       "998                187.95  Proactive bandwidth-monitored policy   \n",
       "999                178.35       Virtual 5thgeneration emulation   \n",
       "\n",
       "              City  Gender                 Country            Timestamp  \\\n",
       "995      Duffystad    Male                 Lebanon  2016-02-11 21:49:00   \n",
       "996    New Darlene    Male  Bosnia and Herzegovina  2016-04-22 02:07:01   \n",
       "997  South Jessica    Male                Mongolia  2016-02-01 17:24:57   \n",
       "998    West Steven  Female               Guatemala  2016-03-24 02:35:54   \n",
       "999    Ronniemouth  Female                  Brazil  2016-06-03 21:43:21   \n",
       "\n",
       "     Clicked on Ad  \n",
       "995            1.0  \n",
       "996            1.0  \n",
       "997            1.0  \n",
       "998            0.0  \n",
       "999            1.0  "
      ]
     },
     "metadata": {},
     "output_type": "display_data"
    },
    {
     "data": {
      "text/html": [
       "<div>\n",
       "<style scoped>\n",
       "    .dataframe tbody tr th:only-of-type {\n",
       "        vertical-align: middle;\n",
       "    }\n",
       "\n",
       "    .dataframe tbody tr th {\n",
       "        vertical-align: top;\n",
       "    }\n",
       "\n",
       "    .dataframe thead th {\n",
       "        text-align: right;\n",
       "    }\n",
       "</style>\n",
       "<table border=\"1\" class=\"dataframe\">\n",
       "  <thead>\n",
       "    <tr style=\"text-align: right;\">\n",
       "      <th></th>\n",
       "      <th>Unnamed: 0</th>\n",
       "      <th>Daily Time Spent on Site</th>\n",
       "      <th>Age</th>\n",
       "      <th>Area Income</th>\n",
       "      <th>Daily Internet Usage</th>\n",
       "      <th>Clicked on Ad</th>\n",
       "    </tr>\n",
       "  </thead>\n",
       "  <tbody>\n",
       "    <tr>\n",
       "      <th>count</th>\n",
       "      <td>1000.000000</td>\n",
       "      <td>907.000000</td>\n",
       "      <td>979.000000</td>\n",
       "      <td>1000.000000</td>\n",
       "      <td>913.000000</td>\n",
       "      <td>832.000000</td>\n",
       "    </tr>\n",
       "    <tr>\n",
       "      <th>mean</th>\n",
       "      <td>499.500000</td>\n",
       "      <td>64.794818</td>\n",
       "      <td>36.009193</td>\n",
       "      <td>55000.000080</td>\n",
       "      <td>179.751271</td>\n",
       "      <td>0.496394</td>\n",
       "    </tr>\n",
       "    <tr>\n",
       "      <th>std</th>\n",
       "      <td>288.819436</td>\n",
       "      <td>15.954841</td>\n",
       "      <td>8.783636</td>\n",
       "      <td>13414.634022</td>\n",
       "      <td>43.957934</td>\n",
       "      <td>0.500288</td>\n",
       "    </tr>\n",
       "    <tr>\n",
       "      <th>min</th>\n",
       "      <td>0.000000</td>\n",
       "      <td>32.600000</td>\n",
       "      <td>19.000000</td>\n",
       "      <td>13996.500000</td>\n",
       "      <td>104.780000</td>\n",
       "      <td>0.000000</td>\n",
       "    </tr>\n",
       "    <tr>\n",
       "      <th>25%</th>\n",
       "      <td>249.750000</td>\n",
       "      <td>50.615000</td>\n",
       "      <td>29.000000</td>\n",
       "      <td>47031.802500</td>\n",
       "      <td>138.550000</td>\n",
       "      <td>0.000000</td>\n",
       "    </tr>\n",
       "    <tr>\n",
       "      <th>50%</th>\n",
       "      <td>499.500000</td>\n",
       "      <td>67.940000</td>\n",
       "      <td>35.000000</td>\n",
       "      <td>57012.300000</td>\n",
       "      <td>183.480000</td>\n",
       "      <td>0.000000</td>\n",
       "    </tr>\n",
       "    <tr>\n",
       "      <th>75%</th>\n",
       "      <td>749.250000</td>\n",
       "      <td>78.555000</td>\n",
       "      <td>42.000000</td>\n",
       "      <td>65470.635000</td>\n",
       "      <td>217.850000</td>\n",
       "      <td>1.000000</td>\n",
       "    </tr>\n",
       "    <tr>\n",
       "      <th>max</th>\n",
       "      <td>999.000000</td>\n",
       "      <td>91.430000</td>\n",
       "      <td>61.000000</td>\n",
       "      <td>79484.800000</td>\n",
       "      <td>269.960000</td>\n",
       "      <td>1.000000</td>\n",
       "    </tr>\n",
       "  </tbody>\n",
       "</table>\n",
       "</div>"
      ],
      "text/plain": [
       "        Unnamed: 0  Daily Time Spent on Site         Age   Area Income  \\\n",
       "count  1000.000000                907.000000  979.000000   1000.000000   \n",
       "mean    499.500000                 64.794818   36.009193  55000.000080   \n",
       "std     288.819436                 15.954841    8.783636  13414.634022   \n",
       "min       0.000000                 32.600000   19.000000  13996.500000   \n",
       "25%     249.750000                 50.615000   29.000000  47031.802500   \n",
       "50%     499.500000                 67.940000   35.000000  57012.300000   \n",
       "75%     749.250000                 78.555000   42.000000  65470.635000   \n",
       "max     999.000000                 91.430000   61.000000  79484.800000   \n",
       "\n",
       "       Daily Internet Usage  Clicked on Ad  \n",
       "count            913.000000     832.000000  \n",
       "mean             179.751271       0.496394  \n",
       "std               43.957934       0.500288  \n",
       "min              104.780000       0.000000  \n",
       "25%              138.550000       0.000000  \n",
       "50%              183.480000       0.000000  \n",
       "75%              217.850000       1.000000  \n",
       "max              269.960000       1.000000  "
      ]
     },
     "metadata": {},
     "output_type": "display_data"
    }
   ],
   "source": [
    "import numpy as np\n",
    "import pandas as pd\n",
    "import matplotlib.pyplot as plt\n",
    "import scipy.stats as stats\n",
    "import time\n",
    "%matplotlib inline\n",
    "\n",
    "data_frame = pd.read_csv('advertising_dataset.csv')\n",
    "\n",
    "display(data_frame.head())\n",
    "display(data_frame.tail())\n",
    "display(data_frame.describe())\n"
   ]
  },
  {
   "cell_type": "markdown",
   "metadata": {},
   "source": [
    "## part 2\n",
    "In this part <br>\n",
    "- Data type of each column is displayed.<br>\n",
    "- In Gender column 'Female' is replaced with 0 and 'Male' by 1. <br>\n",
    "- To make sure giving lable to Gender column works, first 5 rows of data set are displayed."
   ]
  },
  {
   "cell_type": "code",
   "execution_count": 574,
   "metadata": {},
   "outputs": [
    {
     "name": "stdout",
     "output_type": "stream",
     "text": [
      "<class 'pandas.core.frame.DataFrame'>\n",
      "RangeIndex: 1000 entries, 0 to 999\n",
      "Data columns (total 11 columns):\n",
      " #   Column                    Non-Null Count  Dtype  \n",
      "---  ------                    --------------  -----  \n",
      " 0   Unnamed: 0                1000 non-null   int64  \n",
      " 1   Daily Time Spent on Site  907 non-null    float64\n",
      " 2   Age                       979 non-null    float64\n",
      " 3   Area Income               1000 non-null   float64\n",
      " 4   Daily Internet Usage      913 non-null    float64\n",
      " 5   Ad Topic Line             1000 non-null   object \n",
      " 6   City                      1000 non-null   object \n",
      " 7   Gender                    1000 non-null   object \n",
      " 8   Country                   1000 non-null   object \n",
      " 9   Timestamp                 1000 non-null   object \n",
      " 10  Clicked on Ad             832 non-null    float64\n",
      "dtypes: float64(5), int64(1), object(5)\n",
      "memory usage: 66.5+ KB\n"
     ]
    },
    {
     "data": {
      "text/plain": [
       "None"
      ]
     },
     "metadata": {},
     "output_type": "display_data"
    },
    {
     "data": {
      "text/html": [
       "<div>\n",
       "<style scoped>\n",
       "    .dataframe tbody tr th:only-of-type {\n",
       "        vertical-align: middle;\n",
       "    }\n",
       "\n",
       "    .dataframe tbody tr th {\n",
       "        vertical-align: top;\n",
       "    }\n",
       "\n",
       "    .dataframe thead th {\n",
       "        text-align: right;\n",
       "    }\n",
       "</style>\n",
       "<table border=\"1\" class=\"dataframe\">\n",
       "  <thead>\n",
       "    <tr style=\"text-align: right;\">\n",
       "      <th></th>\n",
       "      <th>Unnamed: 0</th>\n",
       "      <th>Daily Time Spent on Site</th>\n",
       "      <th>Age</th>\n",
       "      <th>Area Income</th>\n",
       "      <th>Daily Internet Usage</th>\n",
       "      <th>Ad Topic Line</th>\n",
       "      <th>City</th>\n",
       "      <th>Gender</th>\n",
       "      <th>Country</th>\n",
       "      <th>Timestamp</th>\n",
       "      <th>Clicked on Ad</th>\n",
       "    </tr>\n",
       "  </thead>\n",
       "  <tbody>\n",
       "    <tr>\n",
       "      <th>0</th>\n",
       "      <td>0</td>\n",
       "      <td>68.95</td>\n",
       "      <td>35.0</td>\n",
       "      <td>61833.90</td>\n",
       "      <td>256.09</td>\n",
       "      <td>Cloned 5thgeneration orchestration</td>\n",
       "      <td>Wrightburgh</td>\n",
       "      <td>0</td>\n",
       "      <td>Tunisia</td>\n",
       "      <td>2016-03-27 00:53:11</td>\n",
       "      <td>0.0</td>\n",
       "    </tr>\n",
       "    <tr>\n",
       "      <th>1</th>\n",
       "      <td>1</td>\n",
       "      <td>80.23</td>\n",
       "      <td>31.0</td>\n",
       "      <td>68441.85</td>\n",
       "      <td>NaN</td>\n",
       "      <td>Monitored national standardization</td>\n",
       "      <td>West Jodi</td>\n",
       "      <td>1</td>\n",
       "      <td>Nauru</td>\n",
       "      <td>2016-04-04 01:39:02</td>\n",
       "      <td>0.0</td>\n",
       "    </tr>\n",
       "    <tr>\n",
       "      <th>2</th>\n",
       "      <td>2</td>\n",
       "      <td>69.47</td>\n",
       "      <td>26.0</td>\n",
       "      <td>59785.94</td>\n",
       "      <td>236.50</td>\n",
       "      <td>Organic bottom-line service-desk</td>\n",
       "      <td>Davidton</td>\n",
       "      <td>0</td>\n",
       "      <td>San Marino</td>\n",
       "      <td>2016-03-13 20:35:42</td>\n",
       "      <td>0.0</td>\n",
       "    </tr>\n",
       "    <tr>\n",
       "      <th>3</th>\n",
       "      <td>3</td>\n",
       "      <td>74.15</td>\n",
       "      <td>29.0</td>\n",
       "      <td>54806.18</td>\n",
       "      <td>245.89</td>\n",
       "      <td>Triple-buffered reciprocal time-frame</td>\n",
       "      <td>West Terrifurt</td>\n",
       "      <td>1</td>\n",
       "      <td>Italy</td>\n",
       "      <td>2016-01-10 02:31:19</td>\n",
       "      <td>0.0</td>\n",
       "    </tr>\n",
       "    <tr>\n",
       "      <th>4</th>\n",
       "      <td>4</td>\n",
       "      <td>68.37</td>\n",
       "      <td>35.0</td>\n",
       "      <td>73889.99</td>\n",
       "      <td>225.58</td>\n",
       "      <td>Robust logistical utilization</td>\n",
       "      <td>South Manuel</td>\n",
       "      <td>0</td>\n",
       "      <td>Iceland</td>\n",
       "      <td>2016-06-03 03:36:18</td>\n",
       "      <td>0.0</td>\n",
       "    </tr>\n",
       "  </tbody>\n",
       "</table>\n",
       "</div>"
      ],
      "text/plain": [
       "   Unnamed: 0  Daily Time Spent on Site   Age  Area Income  \\\n",
       "0           0                     68.95  35.0     61833.90   \n",
       "1           1                     80.23  31.0     68441.85   \n",
       "2           2                     69.47  26.0     59785.94   \n",
       "3           3                     74.15  29.0     54806.18   \n",
       "4           4                     68.37  35.0     73889.99   \n",
       "\n",
       "   Daily Internet Usage                          Ad Topic Line  \\\n",
       "0                256.09     Cloned 5thgeneration orchestration   \n",
       "1                   NaN     Monitored national standardization   \n",
       "2                236.50       Organic bottom-line service-desk   \n",
       "3                245.89  Triple-buffered reciprocal time-frame   \n",
       "4                225.58          Robust logistical utilization   \n",
       "\n",
       "             City  Gender     Country            Timestamp  Clicked on Ad  \n",
       "0     Wrightburgh       0     Tunisia  2016-03-27 00:53:11            0.0  \n",
       "1       West Jodi       1       Nauru  2016-04-04 01:39:02            0.0  \n",
       "2        Davidton       0  San Marino  2016-03-13 20:35:42            0.0  \n",
       "3  West Terrifurt       1       Italy  2016-01-10 02:31:19            0.0  \n",
       "4    South Manuel       0     Iceland  2016-06-03 03:36:18            0.0  "
      ]
     },
     "metadata": {},
     "output_type": "display_data"
    }
   ],
   "source": [
    "display(data_frame.info())\n",
    "\n",
    "data_frame['Gender'] = data_frame['Gender'].map({'Female': 0, 'Male': 1, 0: 0, 1: 1})\n",
    "display(data_frame.head())\n"
   ]
  },
  {
   "cell_type": "markdown",
   "metadata": {},
   "source": [
    "## part 3\n",
    "In this part <br>\n",
    "- To solve problem NaN values, in first solution we replace NaN values of each column with average of that column.<br>\n",
    "- There are 3 main methods for handling missing data.<br>\n",
    "1. Deletion of missing data of dataset:<br>\n",
    "In small datasets it's not good idea to use this method. It may decrease accuracy thereupon. But if<br>\n",
    "the dataset is huge it is fine to use this method specially if missing values are in identical rows.\n",
    "2. Replacement with statistical values:\n",
    "In this method missing values will be replaced with statistical values like mean, median or mode.<br>\n",
    "Choosing between mean and median and mode depends on distribution of values in dataset. For example<br>\n",
    "If we have fairly high number of outliers in our dataset It is better to use replacement with median<br>\n",
    "rather than mean. Otherwise replacement with mean is better.\n",
    "3. Model-based methods.:\n",
    "In this method if we have missing values in in a feature we assume this feature as our output<br>\n",
    "and give other features as our inputs to the training model. Then we predict the missing ones.<br>\n",
    "By having missing values in a number of features his method could takes more time and calculational<br>\n",
    "effort than other methods because we need to run model for each feature. In huge datasets this method <br>\n",
    "takes a lot of time."
   ]
  },
  {
   "cell_type": "code",
   "execution_count": 575,
   "metadata": {},
   "outputs": [
    {
     "name": "stdout",
     "output_type": "stream",
     "text": [
      "Number of NaN values of each column\n"
     ]
    },
    {
     "data": {
      "text/plain": [
       "Unnamed: 0                    0\n",
       "Daily Time Spent on Site     93\n",
       "Age                          21\n",
       "Area Income                   0\n",
       "Daily Internet Usage         87\n",
       "Ad Topic Line                 0\n",
       "City                          0\n",
       "Gender                        0\n",
       "Country                       0\n",
       "Timestamp                     0\n",
       "Clicked on Ad               168\n",
       "dtype: int64"
      ]
     },
     "metadata": {},
     "output_type": "display_data"
    }
   ],
   "source": [
    "clicked_on_ad_col = data_frame['Clicked on Ad']\n",
    "\n",
    "print(\"Number of NaN values of each column\")\n",
    "display(data_frame.isna().sum())\n",
    "\n",
    "data_frame = data_frame.fillna(data_frame.mean())\n",
    "data_frame['Clicked on Ad'] = clicked_on_ad_col"
   ]
  },
  {
   "cell_type": "markdown",
   "metadata": {},
   "source": [
    "## part 4\n",
    "In this part <br>\n",
    "- Number of female and male users are displayed.<br>\n",
    "- Number of users who clicked on Ad and who dont are displayed. <br>"
   ]
  },
  {
   "cell_type": "code",
   "execution_count": 576,
   "metadata": {},
   "outputs": [
    {
     "name": "stdout",
     "output_type": "stream",
     "text": [
      "Number of female users:\n"
     ]
    },
    {
     "data": {
      "text/plain": [
       "519"
      ]
     },
     "metadata": {},
     "output_type": "display_data"
    },
    {
     "name": "stdout",
     "output_type": "stream",
     "text": [
      "Number of female users:\n"
     ]
    },
    {
     "data": {
      "text/plain": [
       "481"
      ]
     },
     "metadata": {},
     "output_type": "display_data"
    },
    {
     "name": "stdout",
     "output_type": "stream",
     "text": [
      "Number of users who clicked on Ad:\n"
     ]
    },
    {
     "data": {
      "text/plain": [
       "413"
      ]
     },
     "metadata": {},
     "output_type": "display_data"
    },
    {
     "name": "stdout",
     "output_type": "stream",
     "text": [
      "Number of users dont who clicked on Ad:\n"
     ]
    },
    {
     "data": {
      "text/plain": [
       "419"
      ]
     },
     "metadata": {},
     "output_type": "display_data"
    }
   ],
   "source": [
    "print('Number of female users:')\n",
    "display(data_frame['Gender'].value_counts()[0])\n",
    "print('Number of female users:')\n",
    "display(data_frame['Gender'].value_counts()[1])\n",
    "\n",
    "print('Number of users who clicked on Ad:')\n",
    "display(data_frame['Clicked on Ad'].value_counts()[1])\n",
    "print('Number of users dont who clicked on Ad:')\n",
    "display(data_frame['Clicked on Ad'].value_counts()[0])"
   ]
  },
  {
   "cell_type": "markdown",
   "metadata": {},
   "source": [
    "## part 5\n",
    "In this part <br>\n",
    "- Number of older users with same gender as me is displayed.<br>"
   ]
  },
  {
   "cell_type": "code",
   "execution_count": 577,
   "metadata": {},
   "outputs": [
    {
     "name": "stdout",
     "output_type": "stream",
     "text": [
      "Number of older users with same gender as me:\n",
      "472\n"
     ]
    }
   ],
   "source": [
    "data_frame_with_condition = data_frame.apply(lambda x : True if x['Gender'] == 1 and x['Age'] > 20 else False, axis = 1)\n",
    "num_of_rows = len(data_frame_with_condition[data_frame_with_condition == True].index)\n",
    "\n",
    "print('Number of older users with same gender as me:')\n",
    "print(num_of_rows)\n"
   ]
  },
  {
   "cell_type": "markdown",
   "metadata": {},
   "source": [
    "## part 6\n",
    "In this part <br>\n",
    "- Average age of users who clicked on Ad and who dont is calculated using vectorization.<br>\n",
    "- The time it takes also is displayed. <br> "
   ]
  },
  {
   "cell_type": "code",
   "execution_count": 578,
   "metadata": {},
   "outputs": [
    {
     "name": "stdout",
     "output_type": "stream",
     "text": [
      "Average age of who clicked on Ad:\n"
     ]
    },
    {
     "data": {
      "text/plain": [
       "40.295599848637366"
      ]
     },
     "metadata": {},
     "output_type": "display_data"
    },
    {
     "name": "stdout",
     "output_type": "stream",
     "text": [
      "Average age of who dont clicked on Ad:\n"
     ]
    },
    {
     "data": {
      "text/plain": [
       "31.723325881701896"
      ]
     },
     "metadata": {},
     "output_type": "display_data"
    },
    {
     "name": "stdout",
     "output_type": "stream",
     "text": [
      "Time(vectorization): 5.001068 ms\n"
     ]
    }
   ],
   "source": [
    "time1_1 = time.time()\n",
    "\n",
    "averages_of_users = data_frame.groupby('Clicked on Ad').mean()\n",
    "\n",
    "time1_2 = time.time()\n",
    "\n",
    "print('Average age of who clicked on Ad:')\n",
    "display(averages_of_users['Age'][1])\n",
    "print('Average age of who dont clicked on Ad:')\n",
    "display(averages_of_users['Age'][0])\n",
    "print(\"Time(vectorization): %f ms\" % ((time1_2 - time1_1) * 1000))"
   ]
  },
  {
   "cell_type": "markdown",
   "metadata": {},
   "source": [
    "## part 7\n",
    "In this part <br>\n",
    "- Average age of users who clicked on Ad and who dont is calculated using for loop.<br>\n",
    "- The time it takes also is displayed. <br> "
   ]
  },
  {
   "cell_type": "code",
   "execution_count": 579,
   "metadata": {},
   "outputs": [
    {
     "name": "stdout",
     "output_type": "stream",
     "text": [
      "Average age of who clicked on Ad:\n"
     ]
    },
    {
     "data": {
      "text/plain": [
       "40.295599848637366"
      ]
     },
     "metadata": {},
     "output_type": "display_data"
    },
    {
     "name": "stdout",
     "output_type": "stream",
     "text": [
      "Average age of who dont clicked on Ad:\n"
     ]
    },
    {
     "data": {
      "text/plain": [
       "31.723325881701896"
      ]
     },
     "metadata": {},
     "output_type": "display_data"
    },
    {
     "name": "stdout",
     "output_type": "stream",
     "text": [
      "Time(for loop): 40.008783 ms\n"
     ]
    }
   ],
   "source": [
    "time2_1 = time.time()\n",
    "\n",
    "click_average = 0\n",
    "num1 = 0\n",
    "not_click_average = 0\n",
    "num2 = 0\n",
    "for i in range(1000):\n",
    "    if data_frame['Clicked on Ad'][i] == 1:\n",
    "        click_average += data_frame['Age'][i]\n",
    "        num1 += 1\n",
    "    else:\n",
    "        if data_frame['Clicked on Ad'][i] == 0:\n",
    "            not_click_average += data_frame['Age'][i]\n",
    "            num2 += 1\n",
    "        \n",
    "click_average /= num1\n",
    "not_click_average /= num2\n",
    "\n",
    "time2_2 = time.time()\n",
    "\n",
    "print('Average age of who clicked on Ad:')\n",
    "display(click_average)\n",
    "print('Average age of who dont clicked on Ad:')\n",
    "display(not_click_average)\n",
    "print(\"Time(for loop): %f ms\" % ((time2_2 - time2_1) * 1000))\n"
   ]
  },
  {
   "cell_type": "markdown",
   "metadata": {},
   "source": [
    "## Analysis\n",
    "By run 2 previous cells we can see that using vectorization we get a time nearly 4 ms <br> and using for loop we get a time nearly 35 ms. (5 to 8 times faster)"
   ]
  },
  {
   "cell_type": "markdown",
   "metadata": {},
   "source": [
    "## part 8\n",
    "In this part <br>\n",
    "- We draw distribution of each column."
   ]
  },
  {
   "cell_type": "code",
   "execution_count": 580,
   "metadata": {},
   "outputs": [
    {
     "data": {
      "image/png": "[encoded data removed]",
      "text/plain": [
       "<Figure size 432x288 with 1 Axes>"
      ]
     },
     "metadata": {
      "needs_background": "light"
     },
     "output_type": "display_data"
    },
    {
     "data": {
      "image/png": "[encoded data removed]",
      "text/plain": [
       "<Figure size 432x288 with 1 Axes>"
      ]
     },
     "metadata": {
      "needs_background": "light"
     },
     "output_type": "display_data"
    },
    {
     "data": {
      "image/png": "[encoded data removed]",
      "text/plain": [
       "<Figure size 432x288 with 1 Axes>"
      ]
     },
     "metadata": {
      "needs_background": "light"
     },
     "output_type": "display_data"
    },
    {
     "data": {
      "image/png": "[encoded data removed]",
      "text/plain": [
       "<Figure size 432x288 with 1 Axes>"
      ]
     },
     "metadata": {
      "needs_background": "light"
     },
     "output_type": "display_data"
    }
   ],
   "source": [
    "numerical_fields = ['Daily Time Spent on Site', 'Age', 'Area Income', 'Daily Internet Usage']\n",
    "for field in numerical_fields:\n",
    "    fig = plt.figure()\n",
    "    fig.suptitle(field)\n",
    "    data_frame[field].hist(bins=40)\n"
   ]
  },
  {
   "cell_type": "markdown",
   "metadata": {},
   "source": [
    "## part 9\n",
    "In this part <br>\n",
    "- We normalize our data.\n",
    "- Normalized data is displayed"
   ]
  },
  {
   "cell_type": "code",
   "execution_count": 581,
   "metadata": {},
   "outputs": [
    {
     "data": {
      "text/html": [
       "<div>\n",
       "<style scoped>\n",
       "    .dataframe tbody tr th:only-of-type {\n",
       "        vertical-align: middle;\n",
       "    }\n",
       "\n",
       "    .dataframe tbody tr th {\n",
       "        vertical-align: top;\n",
       "    }\n",
       "\n",
       "    .dataframe thead th {\n",
       "        text-align: right;\n",
       "    }\n",
       "</style>\n",
       "<table border=\"1\" class=\"dataframe\">\n",
       "  <thead>\n",
       "    <tr style=\"text-align: right;\">\n",
       "      <th></th>\n",
       "      <th>Unnamed: 0</th>\n",
       "      <th>Daily Time Spent on Site</th>\n",
       "      <th>Age</th>\n",
       "      <th>Area Income</th>\n",
       "      <th>Daily Internet Usage</th>\n",
       "      <th>Ad Topic Line</th>\n",
       "      <th>City</th>\n",
       "      <th>Gender</th>\n",
       "      <th>Country</th>\n",
       "      <th>Timestamp</th>\n",
       "      <th>Clicked on Ad</th>\n",
       "    </tr>\n",
       "  </thead>\n",
       "  <tbody>\n",
       "    <tr>\n",
       "      <th>0</th>\n",
       "      <td>0</td>\n",
       "      <td>0.273474</td>\n",
       "      <td>-0.116122</td>\n",
       "      <td>0.509436</td>\n",
       "      <td>1.817578</td>\n",
       "      <td>Cloned 5thgeneration orchestration</td>\n",
       "      <td>Wrightburgh</td>\n",
       "      <td>0</td>\n",
       "      <td>Tunisia</td>\n",
       "      <td>2016-03-27 00:53:11</td>\n",
       "      <td>0.0</td>\n",
       "    </tr>\n",
       "    <tr>\n",
       "      <th>1</th>\n",
       "      <td>1</td>\n",
       "      <td>1.015870</td>\n",
       "      <td>-0.576377</td>\n",
       "      <td>1.002029</td>\n",
       "      <td>0.000000</td>\n",
       "      <td>Monitored national standardization</td>\n",
       "      <td>West Jodi</td>\n",
       "      <td>1</td>\n",
       "      <td>Nauru</td>\n",
       "      <td>2016-04-04 01:39:02</td>\n",
       "      <td>0.0</td>\n",
       "    </tr>\n",
       "    <tr>\n",
       "      <th>2</th>\n",
       "      <td>2</td>\n",
       "      <td>0.307698</td>\n",
       "      <td>-1.151696</td>\n",
       "      <td>0.356770</td>\n",
       "      <td>1.351152</td>\n",
       "      <td>Organic bottom-line service-desk</td>\n",
       "      <td>Davidton</td>\n",
       "      <td>0</td>\n",
       "      <td>San Marino</td>\n",
       "      <td>2016-03-13 20:35:42</td>\n",
       "      <td>0.0</td>\n",
       "    </tr>\n",
       "    <tr>\n",
       "      <th>3</th>\n",
       "      <td>3</td>\n",
       "      <td>0.615713</td>\n",
       "      <td>-0.806505</td>\n",
       "      <td>-0.014448</td>\n",
       "      <td>1.574722</td>\n",
       "      <td>Triple-buffered reciprocal time-frame</td>\n",
       "      <td>West Terrifurt</td>\n",
       "      <td>1</td>\n",
       "      <td>Italy</td>\n",
       "      <td>2016-01-10 02:31:19</td>\n",
       "      <td>0.0</td>\n",
       "    </tr>\n",
       "    <tr>\n",
       "      <th>4</th>\n",
       "      <td>4</td>\n",
       "      <td>0.235301</td>\n",
       "      <td>-0.116122</td>\n",
       "      <td>1.408163</td>\n",
       "      <td>1.091154</td>\n",
       "      <td>Robust logistical utilization</td>\n",
       "      <td>South Manuel</td>\n",
       "      <td>0</td>\n",
       "      <td>Iceland</td>\n",
       "      <td>2016-06-03 03:36:18</td>\n",
       "      <td>0.0</td>\n",
       "    </tr>\n",
       "    <tr>\n",
       "      <th>...</th>\n",
       "      <td>...</td>\n",
       "      <td>...</td>\n",
       "      <td>...</td>\n",
       "      <td>...</td>\n",
       "      <td>...</td>\n",
       "      <td>...</td>\n",
       "      <td>...</td>\n",
       "      <td>...</td>\n",
       "      <td>...</td>\n",
       "      <td>...</td>\n",
       "      <td>...</td>\n",
       "    </tr>\n",
       "    <tr>\n",
       "      <th>995</th>\n",
       "      <td>995</td>\n",
       "      <td>0.538051</td>\n",
       "      <td>-0.691441</td>\n",
       "      <td>1.221395</td>\n",
       "      <td>0.686394</td>\n",
       "      <td>Fundamental modular algorithm</td>\n",
       "      <td>Duffystad</td>\n",
       "      <td>1</td>\n",
       "      <td>Lebanon</td>\n",
       "      <td>2016-02-11 21:49:00</td>\n",
       "      <td>1.0</td>\n",
       "    </tr>\n",
       "    <tr>\n",
       "      <th>996</th>\n",
       "      <td>996</td>\n",
       "      <td>-0.888164</td>\n",
       "      <td>1.034517</td>\n",
       "      <td>0.952853</td>\n",
       "      <td>-1.079309</td>\n",
       "      <td>Grass-roots cohesive monitoring</td>\n",
       "      <td>New Darlene</td>\n",
       "      <td>1</td>\n",
       "      <td>Bosnia and Herzegovina</td>\n",
       "      <td>2016-04-22 02:07:01</td>\n",
       "      <td>1.0</td>\n",
       "    </tr>\n",
       "    <tr>\n",
       "      <th>997</th>\n",
       "      <td>997</td>\n",
       "      <td>-0.866445</td>\n",
       "      <td>1.724900</td>\n",
       "      <td>-0.938101</td>\n",
       "      <td>-1.413831</td>\n",
       "      <td>Expanded intangible solution</td>\n",
       "      <td>South Jessica</td>\n",
       "      <td>1</td>\n",
       "      <td>Mongolia</td>\n",
       "      <td>2016-02-01 17:24:57</td>\n",
       "      <td>1.0</td>\n",
       "    </tr>\n",
       "    <tr>\n",
       "      <th>998</th>\n",
       "      <td>998</td>\n",
       "      <td>-0.608450</td>\n",
       "      <td>-1.957144</td>\n",
       "      <td>-0.974996</td>\n",
       "      <td>0.195207</td>\n",
       "      <td>Proactive bandwidth-monitored policy</td>\n",
       "      <td>West Steven</td>\n",
       "      <td>0</td>\n",
       "      <td>Guatemala</td>\n",
       "      <td>2016-03-24 02:35:54</td>\n",
       "      <td>0.0</td>\n",
       "    </tr>\n",
       "    <tr>\n",
       "      <th>999</th>\n",
       "      <td>999</td>\n",
       "      <td>0.000000</td>\n",
       "      <td>-1.151696</td>\n",
       "      <td>-1.872895</td>\n",
       "      <td>-0.033363</td>\n",
       "      <td>Virtual 5thgeneration emulation</td>\n",
       "      <td>Ronniemouth</td>\n",
       "      <td>0</td>\n",
       "      <td>Brazil</td>\n",
       "      <td>2016-06-03 21:43:21</td>\n",
       "      <td>1.0</td>\n",
       "    </tr>\n",
       "  </tbody>\n",
       "</table>\n",
       "<p>1000 rows × 11 columns</p>\n",
       "</div>"
      ],
      "text/plain": [
       "     Unnamed: 0  Daily Time Spent on Site       Age  Area Income  \\\n",
       "0             0                  0.273474 -0.116122     0.509436   \n",
       "1             1                  1.015870 -0.576377     1.002029   \n",
       "2             2                  0.307698 -1.151696     0.356770   \n",
       "3             3                  0.615713 -0.806505    -0.014448   \n",
       "4             4                  0.235301 -0.116122     1.408163   \n",
       "..          ...                       ...       ...          ...   \n",
       "995         995                  0.538051 -0.691441     1.221395   \n",
       "996         996                 -0.888164  1.034517     0.952853   \n",
       "997         997                 -0.866445  1.724900    -0.938101   \n",
       "998         998                 -0.608450 -1.957144    -0.974996   \n",
       "999         999                  0.000000 -1.151696    -1.872895   \n",
       "\n",
       "     Daily Internet Usage                          Ad Topic Line  \\\n",
       "0                1.817578     Cloned 5thgeneration orchestration   \n",
       "1                0.000000     Monitored national standardization   \n",
       "2                1.351152       Organic bottom-line service-desk   \n",
       "3                1.574722  Triple-buffered reciprocal time-frame   \n",
       "4                1.091154          Robust logistical utilization   \n",
       "..                    ...                                    ...   \n",
       "995              0.686394          Fundamental modular algorithm   \n",
       "996             -1.079309        Grass-roots cohesive monitoring   \n",
       "997             -1.413831           Expanded intangible solution   \n",
       "998              0.195207   Proactive bandwidth-monitored policy   \n",
       "999             -0.033363        Virtual 5thgeneration emulation   \n",
       "\n",
       "               City  Gender                 Country            Timestamp  \\\n",
       "0       Wrightburgh       0                 Tunisia  2016-03-27 00:53:11   \n",
       "1         West Jodi       1                   Nauru  2016-04-04 01:39:02   \n",
       "2          Davidton       0              San Marino  2016-03-13 20:35:42   \n",
       "3    West Terrifurt       1                   Italy  2016-01-10 02:31:19   \n",
       "4      South Manuel       0                 Iceland  2016-06-03 03:36:18   \n",
       "..              ...     ...                     ...                  ...   \n",
       "995       Duffystad       1                 Lebanon  2016-02-11 21:49:00   \n",
       "996     New Darlene       1  Bosnia and Herzegovina  2016-04-22 02:07:01   \n",
       "997   South Jessica       1                Mongolia  2016-02-01 17:24:57   \n",
       "998     West Steven       0               Guatemala  2016-03-24 02:35:54   \n",
       "999     Ronniemouth       0                  Brazil  2016-06-03 21:43:21   \n",
       "\n",
       "     Clicked on Ad  \n",
       "0              0.0  \n",
       "1              0.0  \n",
       "2              0.0  \n",
       "3              0.0  \n",
       "4              0.0  \n",
       "..             ...  \n",
       "995            1.0  \n",
       "996            1.0  \n",
       "997            1.0  \n",
       "998            0.0  \n",
       "999            1.0  \n",
       "\n",
       "[1000 rows x 11 columns]"
      ]
     },
     "metadata": {},
     "output_type": "display_data"
    }
   ],
   "source": [
    "for field in numerical_fields:\n",
    "    mean = data_frame[field].mean()\n",
    "    std = data_frame[field].std()\n",
    "    \n",
    "    data_frame[field] -= mean\n",
    "    data_frame[field] /= std\n",
    "\n",
    "display(data_frame)"
   ]
  },
  {
   "cell_type": "markdown",
   "metadata": {},
   "source": [
    "## part 10\n",
    "In this part <br>\n",
    "- We find mean and std for each numerical field for users who clicked on Ad and who dont.\n",
    "- Using the mean and std for each numerical field we find pdf for normail distribution\n",
    "- At last using pdf we plot normal distribution.<br>\n",
    "Blue diagram is for users who dont click on Ad<br>\n",
    "And orange diagram is for users who dont click on Ad<br>"
   ]
  },
  {
   "cell_type": "code",
   "execution_count": 582,
   "metadata": {},
   "outputs": [
    {
     "name": "stdout",
     "output_type": "stream",
     "text": [
      "Blue diagram is for users who dont click on Ad.\n",
      "Orange diagram is for users who click on Ad.\n"
     ]
    },
    {
     "data": {
      "image/png": "[encoded data removed]",
      "text/plain": [
       "<Figure size 648x360 with 1 Axes>"
      ]
     },
     "metadata": {
      "needs_background": "light"
     },
     "output_type": "display_data"
    },
    {
     "data": {
      "image/png": "[encoded data removed]",
      "text/plain": [
       "<Figure size 648x360 with 1 Axes>"
      ]
     },
     "metadata": {
      "needs_background": "light"
     },
     "output_type": "display_data"
    },
    {
     "data": {
      "image/png": "[encoded data removed]",
      "text/plain": [
       "<Figure size 648x360 with 1 Axes>"
      ]
     },
     "metadata": {
      "needs_background": "light"
     },
     "output_type": "display_data"
    },
    {
     "data": {
      "image/png": "[encoded data removed]",
      "text/plain": [
       "<Figure size 648x360 with 1 Axes>"
      ]
     },
     "metadata": {
      "needs_background": "light"
     },
     "output_type": "display_data"
    }
   ],
   "source": [
    "average = data_frame.groupby('Clicked on Ad').mean()\n",
    "std = data_frame.groupby('Clicked on Ad').std()\n",
    "\n",
    "print(\"Blue diagram is for users who dont click on Ad.\")\n",
    "print(\"Orange diagram is for users who click on Ad.\")\n",
    "for field in numerical_fields:\n",
    "    x0 = sorted(data_frame['Daily Internet Usage'])\n",
    "    x1 = x0\n",
    "    \n",
    "    pdf0 = stats.norm.pdf(x0, average[field][0], std[field][0])\n",
    "    pdf1 = stats.norm.pdf(x1, average[field][1], std[field][1])\n",
    "    \n",
    "    fig = plt.figure()\n",
    "    fig.suptitle(field)\n",
    "    fig.set_size_inches(9, 5)\n",
    "    \n",
    "    plt.plot(x0, pdf0)\n",
    "    plt.plot(x1, pdf1)\n",
    "    plt.xlabel('Number')\n",
    "    plt.ylabel('Density')\n",
    "    plt.show()\n"
   ]
  },
  {
   "cell_type": "markdown",
   "metadata": {},
   "source": [
    "## Analysis\n",
    "We can see users who click on Ad and who dont, have most difference and less overlapping in \"Daily internet usage\" field.<br>\n",
    "Actualy difference of these 2 types of users are more distinguishable in this field rather than other.<br>\n",
    "So we choose this as our input."
   ]
  },
  {
   "cell_type": "markdown",
   "metadata": {},
   "source": [
    "## part 11\n",
    "In this part <br>\n",
    "- We use mean and std of \"Daily internet usage\" to find probability of each row in each pdf.\n",
    "- then we compare probabilities.\n",
    "- if probabaility in pdf0 is higher we assign 0 and otherwise 1."
   ]
  },
  {
   "cell_type": "code",
   "execution_count": 583,
   "metadata": {},
   "outputs": [],
   "source": [
    "selected_field = 'Daily Internet Usage'\n",
    "\n",
    "selected_average0 = average[field][0]\n",
    "selected_average1 = average[field][1]\n",
    "\n",
    "selected_std0 = std[field][0]\n",
    "selected_std1 = std[field][1]\n",
    "\n",
    "null_data_frame = data_frame[data_frame['Clicked on Ad'].isnull()].copy()\n",
    "\n",
    "for i in range(len(null_data_frame)):\n",
    "    index = null_data_frame.index[i]\n",
    "    if null_data_frame['Clicked on Ad'][index] != 1 and null_data_frame['Clicked on Ad'][index] != 0:\n",
    "        probability0 = stats.norm(selected_average0, selected_std0).pdf(null_data_frame[selected_field][index])\n",
    "        probability1 = stats.norm(selected_average1, selected_std1).pdf(null_data_frame[selected_field][index])\n",
    "        if probability0 > probability1:\n",
    "            null_data_frame.loc[index, 'Clicked on Ad'] = 0\n",
    "        else:\n",
    "            null_data_frame.loc[index, 'Clicked on Ad'] = 1\n",
    "\n",
    "null_data_frame['Clicked on Ad'].to_csv('output.csv')"
   ]
  }
 ],
 "metadata": {
  "kernelspec": {
   "display_name": "Python 3",
   "language": "python",
   "name": "python3"
  },
  "language_info": {
   "codemirror_mode": {
    "name": "ipython",
    "version": 3
   },
   "file_extension": ".py",
   "mimetype": "text/x-python",
   "name": "python",
   "nbconvert_exporter": "python",
   "pygments_lexer": "ipython3",
   "version": "3.8.5"
  }
 },
 "nbformat": 4,
 "nbformat_minor": 4
}
